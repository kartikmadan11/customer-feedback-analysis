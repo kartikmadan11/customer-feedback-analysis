{
  "cells": [
    {
      "cell_type": "markdown",
      "metadata": {
        "collapsed": true,
        "id": "jWU3WRdJmXPm"
      },
      "source": [
        "![image](https://raw.githubusercontent.com/IBM/watson-machine-learning-samples/master/cloud/notebooks/headers/watsonx-Prompt_Lab-Notebook.png)\n",
        "# Use Watsonx to analyze car rental customer satisfaction and offer recommendation."
      ]
    },
    {
      "cell_type": "markdown",
      "metadata": {
        "id": "K3uU5poVmXPo"
      },
      "source": [
        "**Note:** Please note that for the watsonx challenge, please run these notebooks in IBM Cloud and not on on your laptop/desktop."
      ]
    },
    {
      "cell_type": "markdown",
      "metadata": {
        "id": "rpOM7XK2mXPo"
      },
      "source": [
        "This notebook contains the steps and code to demonstrate support of text sentiment analysis in Watsonx. It introduces commands for data retrieval, model testing and scoring.\n",
        "\n",
        "Some familiarity with Python is helpful. This notebook uses Python 3.10."
      ]
    },
    {
      "cell_type": "markdown",
      "metadata": {
        "id": "TrLX1zyXmXPo"
      },
      "source": [
        "<a id=\"setup\"></a>\n",
        "## Set up the environment"
      ]
    },
    {
      "cell_type": "markdown",
      "metadata": {
        "id": "Nn-tXHrcmXPo"
      },
      "source": [
        "### Install and import the dependecies"
      ]
    },
    {
      "cell_type": "code",
      "execution_count": null,
      "metadata": {
        "id": "_G0tAc2lmXPo",
        "outputId": "6ee38b4e-4eac-4b98-c117-dbb7bf50c5f3"
      },
      "outputs": [
        {
          "name": "stdout",
          "output_type": "stream",
          "text": [
            "Requirement already satisfied: six>=1.5 in /opt/conda/envs/Python-3.10/lib/python3.10/site-packages (from python-dateutil>=2.8.1->pandas->datasets) (1.16.0)\n",
            "Requirement already satisfied: threadpoolctl>=2.0.0 in /opt/conda/envs/Python-3.10/lib/python3.10/site-packages (from scikit-learn) (2.2.0)\n",
            "Requirement already satisfied: six>=1.10.0 in /opt/conda/envs/Python-3.10/lib/python3.10/site-packages (from lomond->ibm-watson-machine-learning==1.0.312) (1.16.0)\n"
          ]
        }
      ],
      "source": [
        "!pip install datasets | tail -n 1\n",
        "!pip install scikit-learn | tail -n 1\n",
        "!pip install ibm-watson-machine-learning==1.0.312 | tail -n 1"
      ]
    },
    {
      "cell_type": "markdown",
      "metadata": {
        "id": "0duPBopomXPp"
      },
      "source": [
        "**Note:** Please restart the notebook kernel to pick up proper version of packages installed above."
      ]
    },
    {
      "cell_type": "code",
      "execution_count": null,
      "metadata": {
        "id": "b3gp07HqmXPp"
      },
      "outputs": [],
      "source": [
        "import os, getpass\n",
        "from pandas import read_csv"
      ]
    },
    {
      "cell_type": "markdown",
      "metadata": {
        "id": "i2NKK3O5mXPq"
      },
      "source": [
        "### Watsonx API connection\n",
        "This cell defines the credentials required to work with watsonx API for Foundation\n",
        "Model inferencing.\n",
        "\n",
        "**Action:** Provide the IBM Cloud user API key. Instructions have been provided to generate IBM Cloud API key. For details, see\n",
        "[documentation](https://cloud.ibm.com/docs/account?topic=account-userapikey&interface=ui)."
      ]
    },
    {
      "cell_type": "code",
      "execution_count": null,
      "metadata": {
        "id": "YtiNgFWomXPq",
        "outputId": "727b2d23-713f-4197-9b89-2d525206dbed"
      },
      "outputs": [
        {
          "name": "stdout",
          "output_type": "stream",
          "text": [
            "Please enter your api key (hit enter): ········\n"
          ]
        }
      ],
      "source": [
        "from ibm_cloud_sdk_core import IAMTokenManager\n",
        "from ibm_cloud_sdk_core.authenticators import IAMAuthenticator, BearerTokenAuthenticator\n",
        "import os, getpass\n",
        "\n",
        "access_token = IAMTokenManager(\n",
        "    apikey = getpass.getpass(\"Please enter your api key (hit enter): \"),\n",
        "    url = \"https://iam.cloud.ibm.com/identity/token\"\n",
        ").get_token()"
      ]
    },
    {
      "cell_type": "markdown",
      "metadata": {
        "id": "robE83uLmXPq"
      },
      "source": [
        "### Defining the project id\n",
        "The API requires project id that provides the context for the call. We will obtain the id from the project in which this notebook runs. When you run notebook on IBM Cloud, project in which it runs is saved as environment variable PROJECT_ID.\n",
        "\n",
        "**Hint**: You can find the `project_id` as follows. Open the prompt lab in watsonx.ai. At the very top of the UI, there will be `Projects / <project name> /`. Click on the `<project name>` link. Then get the `project_id` from Project's Manage tab (Project -> Manage -> General -> Details).\n"
      ]
    },
    {
      "cell_type": "code",
      "execution_count": null,
      "metadata": {
        "id": "iAsoxzRrmXPq"
      },
      "outputs": [],
      "source": [
        "try:\n",
        "    project_id = os.environ[\"PROJECT_ID\"]\n",
        "except KeyError:\n",
        "    project_id = input(\"Please enter your project_id (hit enter): \")"
      ]
    },
    {
      "cell_type": "markdown",
      "metadata": {
        "id": "BmRb7dK0mXPq"
      },
      "source": [
        "<a id=\"data\"></a>\n",
        "## Train/test data loading"
      ]
    },
    {
      "cell_type": "markdown",
      "metadata": {
        "id": "PjFsEpBCmXPq"
      },
      "source": [
        "Load train and test datasets. At first, training dataset (`train_data`) should be used to work with the models to prepare and tune prompt. Then, test dataset (`test_data`) should be used to calculate the metrics score for selected model, defined prompts and parameters."
      ]
    },
    {
      "cell_type": "code",
      "execution_count": null,
      "metadata": {
        "id": "3Plqo_kwmXPq"
      },
      "outputs": [],
      "source": [
        "filename_test = 'https://watsonx-gsi-challenge.s3.jp-tok.cloud-object-storage.appdomain.cloud/track1/test.csv'\n",
        "filename_train = 'https://watsonx-gsi-challenge.s3.jp-tok.cloud-object-storage.appdomain.cloud/track1/train.csv'\n",
        "\n",
        "test_data = read_csv(filename_test)\n",
        "train_data = read_csv(filename_train)"
      ]
    },
    {
      "cell_type": "code",
      "execution_count": null,
      "metadata": {
        "id": "wzsTNqd6mXPr",
        "outputId": "cee4baad-cc3b-4ddc-ac9c-f2aafe52c945"
      },
      "outputs": [
        {
          "data": {
            "text/html": [
              "<div>\n",
              "<style scoped>\n",
              "    .dataframe tbody tr th:only-of-type {\n",
              "        vertical-align: middle;\n",
              "    }\n",
              "\n",
              "    .dataframe tbody tr th {\n",
              "        vertical-align: top;\n",
              "    }\n",
              "\n",
              "    .dataframe thead th {\n",
              "        text-align: right;\n",
              "    }\n",
              "</style>\n",
              "<table border=\"1\" class=\"dataframe\">\n",
              "  <thead>\n",
              "    <tr style=\"text-align: right;\">\n",
              "      <th></th>\n",
              "      <th>ID</th>\n",
              "      <th>Gender</th>\n",
              "      <th>Status</th>\n",
              "      <th>Children</th>\n",
              "      <th>Age</th>\n",
              "      <th>Customer_Status</th>\n",
              "      <th>Car_Owner</th>\n",
              "      <th>Customer_Service</th>\n",
              "      <th>Satisfaction</th>\n",
              "      <th>Business_Area</th>\n",
              "      <th>Action</th>\n",
              "    </tr>\n",
              "  </thead>\n",
              "  <tbody>\n",
              "    <tr>\n",
              "      <th>0</th>\n",
              "      <td>2944</td>\n",
              "      <td>Female</td>\n",
              "      <td>M</td>\n",
              "      <td>2</td>\n",
              "      <td>41.92</td>\n",
              "      <td>Active</td>\n",
              "      <td>No</td>\n",
              "      <td>Customer service was friendly and helpful.</td>\n",
              "      <td>1</td>\n",
              "      <td>Service: Knowledge</td>\n",
              "      <td>NaN</td>\n",
              "    </tr>\n",
              "    <tr>\n",
              "      <th>1</th>\n",
              "      <td>1119</td>\n",
              "      <td>Female</td>\n",
              "      <td>M</td>\n",
              "      <td>2</td>\n",
              "      <td>33.60</td>\n",
              "      <td>Active</td>\n",
              "      <td>Yes</td>\n",
              "      <td>Customer service was good at MSP airport and t...</td>\n",
              "      <td>1</td>\n",
              "      <td>Service: Knowledge</td>\n",
              "      <td>NaN</td>\n",
              "    </tr>\n",
              "    <tr>\n",
              "      <th>2</th>\n",
              "      <td>0</td>\n",
              "      <td>Male</td>\n",
              "      <td>M</td>\n",
              "      <td>0</td>\n",
              "      <td>51.00</td>\n",
              "      <td>Inactive</td>\n",
              "      <td>Yes</td>\n",
              "      <td>I do not  understand why I have to pay additio...</td>\n",
              "      <td>0</td>\n",
              "      <td>Product: Pricing and Billing</td>\n",
              "      <td>Premium features</td>\n",
              "    </tr>\n",
              "    <tr>\n",
              "      <th>3</th>\n",
              "      <td>1085</td>\n",
              "      <td>Female</td>\n",
              "      <td>S</td>\n",
              "      <td>2</td>\n",
              "      <td>42.00</td>\n",
              "      <td>Inactive</td>\n",
              "      <td>No</td>\n",
              "      <td>Based on the customer service personnel I enco...</td>\n",
              "      <td>0</td>\n",
              "      <td>Service: Attitude</td>\n",
              "      <td>On-demand pickup location</td>\n",
              "    </tr>\n",
              "    <tr>\n",
              "      <th>4</th>\n",
              "      <td>0</td>\n",
              "      <td>Female</td>\n",
              "      <td>M</td>\n",
              "      <td>2</td>\n",
              "      <td>44.10</td>\n",
              "      <td>Active</td>\n",
              "      <td>No</td>\n",
              "      <td>Provide more convenient car pickup from the ai...</td>\n",
              "      <td>0</td>\n",
              "      <td>Service: Orders/Contracts</td>\n",
              "      <td>On-demand pickup location</td>\n",
              "    </tr>\n",
              "  </tbody>\n",
              "</table>\n",
              "</div>"
            ],
            "text/plain": [
              "     ID  Gender Status  Children    Age Customer_Status Car_Owner  \\\n",
              "0  2944  Female      M         2  41.92          Active        No   \n",
              "1  1119  Female      M         2  33.60          Active       Yes   \n",
              "2     0    Male      M         0  51.00        Inactive       Yes   \n",
              "3  1085  Female      S         2  42.00        Inactive        No   \n",
              "4     0  Female      M         2  44.10          Active        No   \n",
              "\n",
              "                                    Customer_Service  Satisfaction  \\\n",
              "0         Customer service was friendly and helpful.             1   \n",
              "1  Customer service was good at MSP airport and t...             1   \n",
              "2  I do not  understand why I have to pay additio...             0   \n",
              "3  Based on the customer service personnel I enco...             0   \n",
              "4  Provide more convenient car pickup from the ai...             0   \n",
              "\n",
              "                  Business_Area                     Action  \n",
              "0            Service: Knowledge                        NaN  \n",
              "1            Service: Knowledge                        NaN  \n",
              "2  Product: Pricing and Billing           Premium features  \n",
              "3             Service: Attitude  On-demand pickup location  \n",
              "4     Service: Orders/Contracts  On-demand pickup location  "
            ]
          },
          "execution_count": 6,
          "metadata": {},
          "output_type": "execute_result"
        }
      ],
      "source": [
        "train_data.head()"
      ]
    },
    {
      "cell_type": "code",
      "execution_count": null,
      "metadata": {
        "id": "ePO471s9mXPr",
        "outputId": "9000797e-face-4cbe-80ca-7f92c6868f21"
      },
      "outputs": [
        {
          "data": {
            "text/html": [
              "<div>\n",
              "<style scoped>\n",
              "    .dataframe tbody tr th:only-of-type {\n",
              "        vertical-align: middle;\n",
              "    }\n",
              "\n",
              "    .dataframe tbody tr th {\n",
              "        vertical-align: top;\n",
              "    }\n",
              "\n",
              "    .dataframe thead th {\n",
              "        text-align: right;\n",
              "    }\n",
              "</style>\n",
              "<table border=\"1\" class=\"dataframe\">\n",
              "  <thead>\n",
              "    <tr style=\"text-align: right;\">\n",
              "      <th></th>\n",
              "      <th>ID</th>\n",
              "      <th>Gender</th>\n",
              "      <th>Status</th>\n",
              "      <th>Children</th>\n",
              "      <th>Age</th>\n",
              "      <th>Customer_Status</th>\n",
              "      <th>Car_Owner</th>\n",
              "      <th>Customer_Service</th>\n",
              "      <th>Satisfaction</th>\n",
              "      <th>Business_Area</th>\n",
              "      <th>Action</th>\n",
              "    </tr>\n",
              "  </thead>\n",
              "  <tbody>\n",
              "    <tr>\n",
              "      <th>0</th>\n",
              "      <td>2771</td>\n",
              "      <td>Female</td>\n",
              "      <td>M</td>\n",
              "      <td>2</td>\n",
              "      <td>49.99</td>\n",
              "      <td>Inactive</td>\n",
              "      <td>No</td>\n",
              "      <td>last time I rented a car was at Manchester, NH...</td>\n",
              "      <td>0</td>\n",
              "      <td>Product: Functioning</td>\n",
              "      <td>On-demand pickup location</td>\n",
              "    </tr>\n",
              "    <tr>\n",
              "      <th>1</th>\n",
              "      <td>1133</td>\n",
              "      <td>Male</td>\n",
              "      <td>S</td>\n",
              "      <td>1</td>\n",
              "      <td>56.05</td>\n",
              "      <td>Inactive</td>\n",
              "      <td>No</td>\n",
              "      <td>Please lower the prices.</td>\n",
              "      <td>0</td>\n",
              "      <td>Product: Pricing and Billing</td>\n",
              "      <td>Free Upgrade</td>\n",
              "    </tr>\n",
              "    <tr>\n",
              "      <th>2</th>\n",
              "      <td>900</td>\n",
              "      <td>Female</td>\n",
              "      <td>M</td>\n",
              "      <td>1</td>\n",
              "      <td>64.64</td>\n",
              "      <td>Active</td>\n",
              "      <td>No</td>\n",
              "      <td>Excellent response dealing with child seat.</td>\n",
              "      <td>1</td>\n",
              "      <td>Service: Accessibility</td>\n",
              "      <td>NaN</td>\n",
              "    </tr>\n",
              "    <tr>\n",
              "      <th>3</th>\n",
              "      <td>3795</td>\n",
              "      <td>Male</td>\n",
              "      <td>M</td>\n",
              "      <td>0</td>\n",
              "      <td>46.51</td>\n",
              "      <td>Inactive</td>\n",
              "      <td>No</td>\n",
              "      <td>all went quite smoothly... it was Enterprise, ...</td>\n",
              "      <td>1</td>\n",
              "      <td>Service: Accessibility</td>\n",
              "      <td>NaN</td>\n",
              "    </tr>\n",
              "    <tr>\n",
              "      <th>4</th>\n",
              "      <td>3541</td>\n",
              "      <td>Male</td>\n",
              "      <td>S</td>\n",
              "      <td>1</td>\n",
              "      <td>17.01</td>\n",
              "      <td>Inactive</td>\n",
              "      <td>Yes</td>\n",
              "      <td>Slow, long lineup</td>\n",
              "      <td>0</td>\n",
              "      <td>Product: Functioning</td>\n",
              "      <td>On-demand pickup location</td>\n",
              "    </tr>\n",
              "  </tbody>\n",
              "</table>\n",
              "</div>"
            ],
            "text/plain": [
              "     ID  Gender Status  Children    Age Customer_Status Car_Owner  \\\n",
              "0  2771  Female      M         2  49.99        Inactive        No   \n",
              "1  1133    Male      S         1  56.05        Inactive        No   \n",
              "2   900  Female      M         1  64.64          Active        No   \n",
              "3  3795    Male      M         0  46.51        Inactive        No   \n",
              "4  3541    Male      S         1  17.01        Inactive       Yes   \n",
              "\n",
              "                                    Customer_Service  Satisfaction  \\\n",
              "0  last time I rented a car was at Manchester, NH...             0   \n",
              "1                           Please lower the prices.             0   \n",
              "2        Excellent response dealing with child seat.             1   \n",
              "3  all went quite smoothly... it was Enterprise, ...             1   \n",
              "4                                  Slow, long lineup             0   \n",
              "\n",
              "                  Business_Area                     Action  \n",
              "0          Product: Functioning  On-demand pickup location  \n",
              "1  Product: Pricing and Billing               Free Upgrade  \n",
              "2        Service: Accessibility                        NaN  \n",
              "3        Service: Accessibility                        NaN  \n",
              "4          Product: Functioning  On-demand pickup location  "
            ]
          },
          "execution_count": 8,
          "metadata": {},
          "output_type": "execute_result"
        }
      ],
      "source": [
        "test_data.head()"
      ]
    },
    {
      "cell_type": "code",
      "execution_count": null,
      "metadata": {
        "id": "C046MVzZmXPr"
      },
      "outputs": [],
      "source": [
        "prompts = []\n",
        "for i in range(len(train_data)):\n",
        "    promptString = \"\"\n",
        "    promptString = \"\\n\" + train_data.Customer_Service[i] + \"\\nGender of the Customer: \" + str(train_data.Gender[i]) + \"\\nAge of Customer: \" + str(train_data.Age[i]) + \"\\nAre they an active customer? \" + str(train_data.Customer_Status[i])\n",
        "    promptString = promptString + \"\\n\\nSatisfaction: \" + str(train_data.Satisfaction[i]) + \"\\n\\n\"\n",
        "    prompts.append(promptString)\n",
        "train_data[\"prompts\"] = prompts"
      ]
    },
    {
      "cell_type": "code",
      "execution_count": null,
      "metadata": {
        "id": "gOd3NgZhmXPr",
        "outputId": "aa48c35d-419b-4c52-f459-5425aef8cf43"
      },
      "outputs": [
        {
          "data": {
            "text/plain": [
              "['\\nCustomer service was friendly and helpful.\\nGender of the Customer: Female\\nAge of Customer: 41.92\\nAre they an active customer? Active\\n\\nSatisfaction: 1',\n",
              " '\\nCustomer service was good at MSP airport and the process was very fast.  From getting off of the plane to leaving with my rental car was less than 45 minutes.\\nGender of the Customer: Female\\nAge of Customer: 33.6\\nAre they an active customer? Active\\n\\nSatisfaction: 1',\n",
              " '\\nI do not  understand why I have to pay additional fee if vehicle is returned without a full tank.\\nGender of the Customer: Male\\nAge of Customer: 51.0\\nAre they an active customer? Inactive\\n\\nSatisfaction: 0',\n",
              " '\\nBased on the customer service personnel I encountered most recently, I would say it is vastly preferable for the personnel to be able to at least pretend to care whether the customer ever actually receives a car rental that was reserved months in advance.\\nGender of the Customer: Female\\nAge of Customer: 42.0\\nAre they an active customer? Inactive\\n\\nSatisfaction: 0',\n",
              " '\\nProvide more convenient car pickup from the airport parking.\\nGender of the Customer: Female\\nAge of Customer: 44.1\\nAre they an active customer? Active\\n\\nSatisfaction: 0',\n",
              " '\\nall went quite without hassle, they picked me up to get the car it was great.\\nGender of the Customer: Female\\nAge of Customer: 46.51\\nAre they an active customer? Inactive\\n\\nSatisfaction: 1',\n",
              " '\\nVERY slow service!\\nGender of the Customer: Female\\nAge of Customer: 44.03\\nAre they an active customer? Active\\n\\nSatisfaction: 0',\n",
              " '\\nIts nice when you get in your car and it has already been started up with the A/C or heating going.\\nGender of the Customer: Male\\nAge of Customer: 32.85\\nAre they an active customer? Active\\n\\nSatisfaction: 1',\n",
              " '\\nThey could really try work harder.\\nGender of the Customer: Male\\nAge of Customer: 20.4\\nAre they an active customer? Inactive\\n\\nSatisfaction: 0',\n",
              " '\\nI would like the personnel to pretend they care about customer, at least.\\nGender of the Customer: Female\\nAge of Customer: 40.5\\nAre they an active customer? Inactive\\n\\nSatisfaction: 0',\n",
              " \"\\nCustomer Service is great since you don't have to deal with any people, per se.  The car is ready and waiting for you and the shuttle just drops you off to it.\\nGender of the Customer: Female\\nAge of Customer: 56.19\\nAre they an active customer? Inactive\\n\\nSatisfaction: 1\",\n",
              " '\\nCustomer service went out of their way to provide a car that would fit our needs\\nGender of the Customer: Male\\nAge of Customer: 54.96\\nAre they an active customer? Active\\n\\nSatisfaction: 1',\n",
              " '\\nthey were trying to satisfy me even though my wife tells me I was being rude\\nGender of the Customer: Male\\nAge of Customer: 15.38\\nAre they an active customer? Inactive\\n\\nSatisfaction: 1',\n",
              " '\\nWe got our car very quickly.\\nGender of the Customer: Male\\nAge of Customer: 52.1\\nAre they an active customer? Active\\n\\nSatisfaction: 1',\n",
              " '\\nlong lines moved quickly\\nGender of the Customer: Male\\nAge of Customer: 52.15\\nAre they an active customer? Inactive\\n\\nSatisfaction: 1',\n",
              " '\\nI did everything on-line - never talked to an agent during booking.  There were no problems, even though I had to switch car sizes after initial reservation. Agent on duty for pick-up was courteous.\\nGender of the Customer: Male\\nAge of Customer: 54.01\\nAre they an active customer? Active\\n\\nSatisfaction: 1',\n",
              " '\\nThe customer service agent was helpful, but I find that providing all of the information to the agent takes too long.  It would be nice if I could provide all of the information to the agent prior to coming the rental place.\\nGender of the Customer: Female\\nAge of Customer: 63.93\\nAre they an active customer? Inactive\\n\\nSatisfaction: 0',\n",
              " '\\nWe had a small problem with the size of car we reserved being available. The company was able to send another car over from a different location. We were delayed in getting on the road, but were satisfied with the car.\\nGender of the Customer: Male\\nAge of Customer: 49.99\\nAre they an active customer? Inactive\\n\\nSatisfaction: 1',\n",
              " '\\nI had to wait in line for a long time to get and return the vehicle.  Also, the car was not clean.\\nGender of the Customer: Female\\nAge of Customer: 52.15\\nAre they an active customer? Inactive\\n\\nSatisfaction: 0',\n",
              " '\\nIt was absolutely ATROCIOUS! My wife and I were in a foreign country  when we realized that our car had an expired license plate and expired proof of insurance!\\nGender of the Customer: Male\\nAge of Customer: 53.28\\nAre they an active customer? Inactive\\n\\nSatisfaction: 0',\n",
              " '\\nVery nice, free upgrade\\nGender of the Customer: Male\\nAge of Customer: 16.7\\nAre they an active customer? Active\\n\\nSatisfaction: 1',\n",
              " '\\nthey should not try so hard to up sell\\nGender of the Customer: Female\\nAge of Customer: 48.53\\nAre they an active customer? Active\\n\\nSatisfaction: 0',\n",
              " '\\nThey were friendly and helpful enough.\\nGender of the Customer: Female\\nAge of Customer: 30.89\\nAre they an active customer? Active\\n\\nSatisfaction: 1',\n",
              " '\\nlong lines waiting for the rental pick.\\nGender of the Customer: Male\\nAge of Customer: 46.83\\nAre they an active customer? Inactive\\n\\nSatisfaction: 0',\n",
              " \"\\nWe needed a minivan on very short notice to drive out of town to a funeral.  Enterprise staff worked hard to find us one, and they did. We smashed the car into a parking garage pole.  Since we had purchased the comprehensive insurance we didn't have to go through all of the B.S.\\nGender of the Customer: Male\\nAge of Customer: 51.52\\nAre they an active customer? Active\\n\\nSatisfaction: 1\",\n",
              " '\\nI guess it really DOES \"try harder.\"\\nGender of the Customer: Male\\nAge of Customer: 21.78\\nAre they an active customer? Inactive\\n\\nSatisfaction: 1',\n",
              " '\\nExperience was fine\\nGender of the Customer: Male\\nAge of Customer: 20.0\\nAre they an active customer? Inactive\\n\\nSatisfaction: 1',\n",
              " '\\nwhat customer service? It was a nightmare\\nGender of the Customer: Male\\nAge of Customer: 45.51\\nAre they an active customer? Inactive\\n\\nSatisfaction: 0',\n",
              " '\\nPeople were nice.  Service was fast.\\nGender of the Customer: Female\\nAge of Customer: 53.12\\nAre they an active customer? Active\\n\\nSatisfaction: 1',\n",
              " '\\nWell since I used to work for a car rental company and at the time I rented I was still working with the company, I was treated with nothing but respect and received a free upgrade as well.\\nGender of the Customer: Male\\nAge of Customer: 24.39\\nAre they an active customer? Inactive\\n\\nSatisfaction: 1',\n",
              " '\\n\"sorely lacking\"  helpdesk was not much helpfull\\nGender of the Customer: Female\\nAge of Customer: 57.55\\nAre they an active customer? Inactive\\n\\nSatisfaction: 0',\n",
              " '\\ndelayed shuttle, almost missed flight, bad customer service\\nGender of the Customer: Male\\nAge of Customer: 44.0\\nAre they an active customer? Inactive\\n\\nSatisfaction: 0',\n",
              " '\\nThe rental car guy was cute.\\nGender of the Customer: Male\\nAge of Customer: 64.8\\nAre they an active customer? Active\\n\\nSatisfaction: 1',\n",
              " '\\nI would like the reps be knowledgeable about the immediate area around the rental agency and or have maps for the area available free of charge.\\nGender of the Customer: Male\\nAge of Customer: 38.73\\nAre they an active customer? Active\\n\\nSatisfaction: 0',\n",
              " '\\ncustomer service was OK\\nGender of the Customer: Male\\nAge of Customer: 32.0\\nAre they an active customer? Active\\n\\nSatisfaction: 1',\n",
              " '\\nI was happy that we arrived very late and there was still a live person to help us get our rental.  We had no problems with the car, and returned it easily.\\nGender of the Customer: Male\\nAge of Customer: 46.84\\nAre they an active customer? Active\\n\\nSatisfaction: 1',\n",
              " '\\nThey were very good and took care of what I needed. Very quick.\\nGender of the Customer: Female\\nAge of Customer: 62.0\\nAre they an active customer? Active\\n\\nSatisfaction: 1',\n",
              " '\\nEveryone was very friendly. They even drove us to the airport since we were running late for our flight.\\nGender of the Customer: Male\\nAge of Customer: 21.0\\nAre they an active customer? Inactive\\n\\nSatisfaction: 1',\n",
              " '\\nDid not have some problems. My car was not ready on time.\\nGender of the Customer: Male\\nAge of Customer: 33.0\\nAre they an active customer? Active\\n\\nSatisfaction: 0',\n",
              " '\\nWe dealt with customer service at car pick-up place, and drive off in few minutes.\\nGender of the Customer: Male\\nAge of Customer: 50.1\\nAre they an active customer? Active\\n\\nSatisfaction: 1',\n",
              " '\\nthey were extremely helpful and did whatever they could to help us.\\nGender of the Customer: Male\\nAge of Customer: 47.85\\nAre they an active customer? Active\\n\\nSatisfaction: 1',\n",
              " '\\ncustomer service was OK\\nGender of the Customer: Male\\nAge of Customer: 43.91\\nAre they an active customer? Active\\n\\nSatisfaction: 1',\n",
              " '\\nInitially the representative handled the situation badly.  No car was available, even next day.  Then the rep helped to find us a car in another agency.\\nGender of the Customer: Female\\nAge of Customer: 43.0\\nAre they an active customer? Inactive\\n\\nSatisfaction: 0',\n",
              " \"\\nMy last experience was  seamless.  The only thing I didn't like was having to fill the tank with gas before turning it in.  It was inconvenient, but I didn't want to pay the hefty fill-up charge to the rental company.\\nGender of the Customer: Female\\nAge of Customer: 42.0\\nAre they an active customer? Active\\n\\nSatisfaction: 1\",\n",
              " '\\nEverything was great.  The line was a little long to get the car but it was a good experience.\\nGender of the Customer: Female\\nAge of Customer: 34.32\\nAre they an active customer? Inactive\\n\\nSatisfaction: 1',\n",
              " '\\nadequate to the price. It was fine\\nGender of the Customer: Female\\nAge of Customer: 49.05\\nAre they an active customer? Active\\n\\nSatisfaction: 1',\n",
              " '\\nIt would be nice if they included maps to the airport drop off with the car, last time we got lost returning the car and almost missed the flight.  There was nothing on the exit that indicated rental returns.  Actually the one I really liked, was when we\\nGender of the Customer: Male\\nAge of Customer: 61.71\\nAre they an active customer? Inactive\\n\\nSatisfaction: 0',\n",
              " '\\nit was fine.\\nGender of the Customer: Male\\nAge of Customer: 16.7\\nAre they an active customer? Active\\n\\nSatisfaction: 1',\n",
              " '\\nThe customer service people were very nice.  During my vacation I locked my keys in the car.  The rental company sent someone out with a new set of keys to unlock the car.\\nGender of the Customer: Female\\nAge of Customer: 43.0\\nAre they an active customer? Active\\n\\nSatisfaction: 1',\n",
              " \"\\nStates have different rules and regulations pertaining to speed, radar detectors, even when light should be on.  Customer services reps should have a handout or be knowledgeable of a particular state's laws.\\nGender of the Customer: Male\\nAge of Customer: 42.17\\nAre they an active customer? Inactive\\n\\nSatisfaction: 0\",\n",
              " '\\nprice too high and location off premise too far\\nGender of the Customer: Female\\nAge of Customer: 12.34\\nAre they an active customer? Inactive\\n\\nSatisfaction: 0',\n",
              " '\\nThey were great as far as I could tell, they explained what needed to be done to use the University pricing.\\nGender of the Customer: Female\\nAge of Customer: 46.0\\nAre they an active customer? Active\\n\\nSatisfaction: 1',\n",
              " '\\nNo problems\\nGender of the Customer: Male\\nAge of Customer: 64.8\\nAre they an active customer? Active\\n\\nSatisfaction: 1',\n",
              " '\\nThe company was overwhelmed by the number of customers verse the number of available agents and they were not articulating their situation to the customers well enough. I think we waited for almost 3 hours just to get a rental car. It was ridiculous.\\nGender of the Customer: Male\\nAge of Customer: 61.71\\nAre they an active customer? Inactive\\n\\nSatisfaction: 0',\n",
              " '\\nNone I  rarely rent cars\\nGender of the Customer: Male\\nAge of Customer: 14.64\\nAre they an active customer? Active\\n\\nSatisfaction: 1',\n",
              " '\\nThe rental car person was impertinent.\\nGender of the Customer: Male\\nAge of Customer: 66.2\\nAre they an active customer? Active\\n\\nSatisfaction: 1',\n",
              " '\\nOur customer service representative was polite and well-dressed. He smiled appropriately and answered my questions, not from a rehearsed script, but from his own frame of reference. He shirt was neatly pressed and his hair was professionally coifed.\\nGender of the Customer: Female\\nAge of Customer: 26.03\\nAre they an active customer? Active\\n\\nSatisfaction: 1',\n",
              " '\\nEven economy class cars are too expensive.\\nGender of the Customer: Female\\nAge of Customer: 14.23\\nAre they an active customer? Inactive\\n\\nSatisfaction: 0',\n",
              " '\\nEmployees had nice, new uniforms.\\nGender of the Customer: Male\\nAge of Customer: 16.06\\nAre they an active customer? Inactive\\n\\nSatisfaction: 1',\n",
              " '\\ncustomer service was great until we returned the car.  I experienced an issue with damage to the car, and felt that things were left unanswered and still waiting for a response from them.\\nGender of the Customer: Male\\nAge of Customer: 58.71\\nAre they an active customer? Inactive\\n\\nSatisfaction: 0',\n",
              " '\\nVery good. willing to drop me off and pick me up from location, upgraded me to higher level due to availability\\nGender of the Customer: Female\\nAge of Customer: 43.0\\nAre they an active customer? Active\\n\\nSatisfaction: 1',\n",
              " '\\nThe customer service was very friendly and knowledgeable.  She suggested to upgrade to the SUV and it worked out much better for our trip.\\nGender of the Customer: Male\\nAge of Customer: 18.84\\nAre they an active customer? Active\\n\\nSatisfaction: 1',\n",
              " '\\nthey were very nice and willing to help in any way they could\\nGender of the Customer: Male\\nAge of Customer: 52.63\\nAre they an active customer? Active\\n\\nSatisfaction: 1',\n",
              " '\\nIt was not as bad as it usually is.\\nGender of the Customer: Male\\nAge of Customer: 47.85\\nAre they an active customer? Active\\n\\nSatisfaction: 1',\n",
              " '\\nI have had a few recent rentals that have taken a very very long time, with no offer of apology.  In the most recent case, the agent subsequently offered me a car type on an upgrade coupon and then told me it was no longer available because it had just be\\nGender of the Customer: Female\\nAge of Customer: 55.0\\nAre they an active customer? Inactive\\n\\nSatisfaction: 0',\n",
              " '\\nprice TOO HIGH and off premise location is NOT convenient.\\nGender of the Customer: Female\\nAge of Customer: 16.1\\nAre they an active customer? Inactive\\n\\nSatisfaction: 0',\n",
              " '\\nGuys were extremely nice.\\nGender of the Customer: Male\\nAge of Customer: 35.1\\nAre they an active customer? Active\\n\\nSatisfaction: 1',\n",
              " '\\nIt was good, got the car we wanted without much of a wait in picking up and dropping off\\nGender of the Customer: Male\\nAge of Customer: 53.28\\nAre they an active customer? Inactive\\n\\nSatisfaction: 1',\n",
              " '\\nThe car rental company that I went with had very good customer service. They were out of a certain car I reserved and gave me a upgrade and apologized.\\nGender of the Customer: Female\\nAge of Customer: 55.0\\nAre they an active customer? Active\\n\\nSatisfaction: 1',\n",
              " '\\nHaving knowledgeable personnel is very important\\nGender of the Customer: Male\\nAge of Customer: 14.64\\nAre they an active customer? Active\\n\\nSatisfaction: 0',\n",
              " '\\nThe service I have is always good, I have used the same company for many years and I know the counter personnel personally.  It is always good to know that they are willing to help you in any situation. \\nGender of the Customer: Female\\nAge of Customer: 41.92\\nAre they an active customer? Active\\n\\nSatisfaction: 1',\n",
              " '\\nFor leisure/vacation, I have never personally rented the car.  I have always left that up to my significant other and she did not complain to use this company\\nGender of the Customer: Female\\nAge of Customer: 43.0\\nAre they an active customer? Active\\n\\nSatisfaction: 1',\n",
              " '\\nfriendly, but could not making any decisions on own\\nGender of the Customer: Female\\nAge of Customer: 55.97\\nAre they an active customer? Active\\n\\nSatisfaction: 0',\n",
              " '\\nIf there was not a desired vehicle available the reps explored all options including competitors to assist in finding an available vehicle. This level of service brought me back not to their competitor but the company as this reflects on their overall quality.\\nGender of the Customer: Male\\nAge of Customer: 56.47\\nAre they an active customer? Active\\n\\nSatisfaction: 1',\n",
              " '\\nCustomer service was fine\\nGender of the Customer: Male\\nAge of Customer: 47.85\\nAre they an active customer? Active\\n\\nSatisfaction: 1',\n",
              " \"\\nit seems that they never have the class of car that I ordered.  also, the last time I got there earlier than I thought and they wouldn't let me have the car until the time that I had requested it because their computer wouldn't allow it.\\nGender of the Customer: Male\\nAge of Customer: 18.77\\nAre they an active customer? Active\\n\\nSatisfaction: 0\",\n",
              " '\\nThey were too pushy in trying to sell insurance.\\nGender of the Customer: Female\\nAge of Customer: 39.75\\nAre they an active customer? Active\\n\\nSatisfaction: 0',\n",
              " \"\\nAnywhere you go you will find good customer service and bad customer service.  Since I have rented so many cars, there have been too many experiences to recall so I can't say anything definitely bad\\nGender of the Customer: Female\\nAge of Customer: 48.21\\nAre they an active customer? Active\\n\\nSatisfaction: 1\",\n",
              " '\\nMy experience up to date was  good.  It was inconvenient to return car clean, but I had to pay the hefty charge for rental.\\nGender of the Customer: Female\\nAge of Customer: 45.0\\nAre they an active customer? Active\\n\\nSatisfaction: 1',\n",
              " '\\nThey had the class of car that I ordered.\\nGender of the Customer: Female\\nAge of Customer: 64.64\\nAre they an active customer? Active\\n\\nSatisfaction: 1',\n",
              " '\\nCustomer Service at Alamo was RUDE. We waited in line for over an hour to get our car. Car was bad. Had to change it few days later. Another family traveling with us was upgraded to a larger car as they were out of the type of car booked.\\nGender of the Customer: Male\\nAge of Customer: 55.11\\nAre they an active customer? Inactive\\n\\nSatisfaction: 0',\n",
              " '\\nThey were idiots.  The car had problems and they were unable to fix them or provide a replacement without a lot of hassle.\\nGender of the Customer: Female\\nAge of Customer: 62.79\\nAre they an active customer? Inactive\\n\\nSatisfaction: 0',\n",
              " '\\nNo suggestions.  Customer Service was good.\\nGender of the Customer: Male\\nAge of Customer: 25.03\\nAre they an active customer? Active\\n\\nSatisfaction: 1',\n",
              " '\\nI had to pay more because of some hidden fees. It disappointed me.\\nGender of the Customer: Male\\nAge of Customer: 65.2\\nAre they an active customer? Inactive\\n\\nSatisfaction: 0',\n",
              " '\\nservice was good.\\nGender of the Customer: Female\\nAge of Customer: 41.0\\nAre they an active customer? Active\\n\\nSatisfaction: 1',\n",
              " '\\nthey could not provide driving directions\\nGender of the Customer: Male\\nAge of Customer: 53.28\\nAre they an active customer? Inactive\\n\\nSatisfaction: 0',\n",
              " '\\nI thought that they were very short and not very friendly. I felt like they hated their job and could care less about the customer.\\nGender of the Customer: Male\\nAge of Customer: 52.27\\nAre they an active customer? Inactive\\n\\nSatisfaction: 0',\n",
              " '\\nThe car should have been brought to us instead of us trying to find it in the lot.\\nGender of the Customer: Male\\nAge of Customer: 17.01\\nAre they an active customer? Inactive\\n\\nSatisfaction: 0',\n",
              " '\\nService was fast. Car was parked close-by.\\nGender of the Customer: Male\\nAge of Customer: 22.88\\nAre they an active customer? Active\\n\\nSatisfaction: 1',\n",
              " '\\nThey did not have the car I wanted.  upgraded me to a car I did not like and did not want.\\nGender of the Customer: Male\\nAge of Customer: 46.0\\nAre they an active customer? Inactive\\n\\nSatisfaction: 0',\n",
              " '\\nHad problems with windshield wipers that affected usability.  Problem was not solved.  Customer service was NOT helpful. Because of franchising, I was not able to get help from an office other than the one I rented from.  I had driven 60 miles from that location and there was another location 2 miles from where I was staying.\\nGender of the Customer: Female\\nAge of Customer: 46.0\\nAre they an active customer? Inactive\\n\\nSatisfaction: 0',\n",
              " '\\nAlthough there were no available car in category stuff assisted in finding an available vehicle.\\nGender of the Customer: Male\\nAge of Customer: 54.34\\nAre they an active customer? Active\\n\\nSatisfaction: 1',\n",
              " \"\\nEveryone was very helpful.  The car was ready for me on time and I didn't have to wait a long time at the counter.\\nGender of the Customer: Female\\nAge of Customer: 36.92\\nAre they an active customer? Inactive\\n\\nSatisfaction: 1\",\n",
              " '\\nno complaints\\nGender of the Customer: Male\\nAge of Customer: 21.38\\nAre they an active customer? Active\\n\\nSatisfaction: 1',\n",
              " '\\nAll the people I dealt with were pleasant and helpful.\\nGender of the Customer: Female\\nAge of Customer: 31.13\\nAre they an active customer? Active\\n\\nSatisfaction: 1',\n",
              " '\\nYou need more staff to accommodate travelers who are in a hurry. Specifically, cut down the wait time to either retrieve or turn in a rental car.\\nGender of the Customer: Female\\nAge of Customer: 36.68\\nAre they an active customer? Inactive\\n\\nSatisfaction: 0',\n",
              " '\\nThe only unpleasant aspects of interacting with personnel from the company was having to wait in a long line since most windows were closed. Also, they tried really hard to sell additional insurance coverage which was obnoxious.\\nGender of the Customer: Female\\nAge of Customer: 41.67\\nAre they an active customer? Inactive\\n\\nSatisfaction: 0',\n",
              " '\\nthey were a little slow\\nGender of the Customer: Male\\nAge of Customer: 18.77\\nAre they an active customer? Inactive\\n\\nSatisfaction: 0',\n",
              " '\\n The service was polite and professional. I was attended to quickly and courteously.\\nGender of the Customer: Male\\nAge of Customer: 51.52\\nAre they an active customer? Active\\n\\nSatisfaction: 1',\n",
              " '\\nPlease back to lower the prices.\\nGender of the Customer: Male\\nAge of Customer: 53.04\\nAre they an active customer? Inactive\\n\\nSatisfaction: 0']"
            ]
          },
          "execution_count": 30,
          "metadata": {},
          "output_type": "execute_result"
        }
      ],
      "source": [
        "prompts"
      ]
    },
    {
      "cell_type": "code",
      "execution_count": null,
      "metadata": {
        "id": "sLS8Qkp5mXPr"
      },
      "outputs": [],
      "source": [
        "promptExamples = \"\".join(list(train_data.sample(50).prompts))"
      ]
    },
    {
      "cell_type": "code",
      "execution_count": null,
      "metadata": {
        "id": "3Vxa_bAjmXPr",
        "outputId": "a0f19241-73a6-43b9-f088-6dc0e0828a1a"
      },
      "outputs": [
        {
          "data": {
            "text/plain": [
              "'\\nEmployees had nice, new uniforms.\\nGender of the Customer: Male\\nAge of Customer: 16.06\\nAre they an active customer? Inactive\\n\\nSatisfaction: 1\\n\\n\\ncustomer service was great until we returned the car.  I experienced an issue with damage to the car, and felt that things were left unanswered and still waiting for a response from them.\\nGender of the Customer: Male\\nAge of Customer: 58.71\\nAre they an active customer? Inactive\\n\\nSatisfaction: 0\\n\\n\\nI would like the personnel to pretend they care about customer, at least.\\nGender of the Customer: Female\\nAge of Customer: 40.5\\nAre they an active customer? Inactive\\n\\nSatisfaction: 0\\n\\n\\nThe service I have is always good, I have used the same company for many years and I know the counter personnel personally.  It is always good to know that they are willing to help you in any situation. \\nGender of the Customer: Female\\nAge of Customer: 41.92\\nAre they an active customer? Active\\n\\nSatisfaction: 1\\n\\n\\nIt was good, got the car we wanted without much of a wait in picking up and dropping off\\nGender of the Customer: Male\\nAge of Customer: 53.28\\nAre they an active customer? Inactive\\n\\nSatisfaction: 1\\n\\n\\nThey had the class of car that I ordered.\\nGender of the Customer: Female\\nAge of Customer: 64.64\\nAre they an active customer? Active\\n\\nSatisfaction: 1\\n\\n\\nprice TOO HIGH and off premise location is NOT convenient.\\nGender of the Customer: Female\\nAge of Customer: 16.1\\nAre they an active customer? Inactive\\n\\nSatisfaction: 0\\n\\n\\nEverything was great.  The line was a little long to get the car but it was a good experience.\\nGender of the Customer: Female\\nAge of Customer: 34.32\\nAre they an active customer? Inactive\\n\\nSatisfaction: 1\\n\\n\\nDid not have some problems. My car was not ready on time.\\nGender of the Customer: Male\\nAge of Customer: 33.0\\nAre they an active customer? Active\\n\\nSatisfaction: 0\\n\\n\\nStates have different rules and regulations pertaining to speed, radar detectors, even when light should be on.  Customer services reps should have a handout or be knowledgeable of a particular state\\'s laws.\\nGender of the Customer: Male\\nAge of Customer: 42.17\\nAre they an active customer? Inactive\\n\\nSatisfaction: 0\\n\\n\\nThe customer service people were very nice.  During my vacation I locked my keys in the car.  The rental company sent someone out with a new set of keys to unlock the car.\\nGender of the Customer: Female\\nAge of Customer: 43.0\\nAre they an active customer? Active\\n\\nSatisfaction: 1\\n\\n\\nIf there was not a desired vehicle available the reps explored all options including competitors to assist in finding an available vehicle. This level of service brought me back not to their competitor but the company as this reflects on their overall quality.\\nGender of the Customer: Male\\nAge of Customer: 56.47\\nAre they an active customer? Active\\n\\nSatisfaction: 1\\n\\n\\n\"sorely lacking\"  helpdesk was not much helpfull\\nGender of the Customer: Female\\nAge of Customer: 57.55\\nAre they an active customer? Inactive\\n\\nSatisfaction: 0\\n\\n\\nwhat customer service? It was a nightmare\\nGender of the Customer: Male\\nAge of Customer: 45.51\\nAre they an active customer? Inactive\\n\\nSatisfaction: 0\\n\\n\\nCustomer Service is great since you don\\'t have to deal with any people, per se.  The car is ready and waiting for you and the shuttle just drops you off to it.\\nGender of the Customer: Female\\nAge of Customer: 56.19\\nAre they an active customer? Inactive\\n\\nSatisfaction: 1\\n\\n\\nCustomer Service at Alamo was RUDE. We waited in line for over an hour to get our car. Car was bad. Had to change it few days later. Another family traveling with us was upgraded to a larger car as they were out of the type of car booked.\\nGender of the Customer: Male\\nAge of Customer: 55.11\\nAre they an active customer? Inactive\\n\\nSatisfaction: 0\\n\\n\\nNo problems\\nGender of the Customer: Male\\nAge of Customer: 64.8\\nAre they an active customer? Active\\n\\nSatisfaction: 1\\n\\n\\nIt would be nice if they included maps to the airport drop off with the car, last time we got lost returning the car and almost missed the flight.  There was nothing on the exit that indicated rental returns.  Actually the one I really liked, was when we\\nGender of the Customer: Male\\nAge of Customer: 61.71\\nAre they an active customer? Inactive\\n\\nSatisfaction: 0\\n\\n\\nThe rental car person was impertinent.\\nGender of the Customer: Male\\nAge of Customer: 66.2\\nAre they an active customer? Active\\n\\nSatisfaction: 1\\n\\n\\nMy experience up to date was  good.  It was inconvenient to return car clean, but I had to pay the hefty charge for rental.\\nGender of the Customer: Female\\nAge of Customer: 45.0\\nAre they an active customer? Active\\n\\nSatisfaction: 1\\n\\n\\nEven economy class cars are too expensive.\\nGender of the Customer: Female\\nAge of Customer: 14.23\\nAre they an active customer? Inactive\\n\\nSatisfaction: 0\\n\\n\\nNo suggestions.  Customer Service was good.\\nGender of the Customer: Male\\nAge of Customer: 25.03\\nAre they an active customer? Active\\n\\nSatisfaction: 1\\n\\n\\nHad problems with windshield wipers that affected usability.  Problem was not solved.  Customer service was NOT helpful. Because of franchising, I was not able to get help from an office other than the one I rented from.  I had driven 60 miles from that location and there was another location 2 miles from where I was staying.\\nGender of the Customer: Female\\nAge of Customer: 46.0\\nAre they an active customer? Inactive\\n\\nSatisfaction: 0\\n\\n\\nI thought that they were very short and not very friendly. I felt like they hated their job and could care less about the customer.\\nGender of the Customer: Male\\nAge of Customer: 52.27\\nAre they an active customer? Inactive\\n\\nSatisfaction: 0\\n\\n\\nCustomer service was friendly and helpful.\\nGender of the Customer: Female\\nAge of Customer: 41.92\\nAre they an active customer? Active\\n\\nSatisfaction: 1\\n\\n\\nThey were friendly and helpful enough.\\nGender of the Customer: Female\\nAge of Customer: 30.89\\nAre they an active customer? Active\\n\\nSatisfaction: 1\\n\\n\\nThey were very good and took care of what I needed. Very quick.\\nGender of the Customer: Female\\nAge of Customer: 62.0\\nAre they an active customer? Active\\n\\nSatisfaction: 1\\n\\n\\nWe got our car very quickly.\\nGender of the Customer: Male\\nAge of Customer: 52.1\\nAre they an active customer? Active\\n\\nSatisfaction: 1\\n\\n\\nCustomer service was fine\\nGender of the Customer: Male\\nAge of Customer: 47.85\\nAre they an active customer? Active\\n\\nSatisfaction: 1\\n\\n\\nPeople were nice.  Service was fast.\\nGender of the Customer: Female\\nAge of Customer: 53.12\\nAre they an active customer? Active\\n\\nSatisfaction: 1\\n\\n\\nprice too high and location off premise too far\\nGender of the Customer: Female\\nAge of Customer: 12.34\\nAre they an active customer? Inactive\\n\\nSatisfaction: 0\\n\\n\\ncustomer service was OK\\nGender of the Customer: Male\\nAge of Customer: 43.91\\nAre they an active customer? Active\\n\\nSatisfaction: 1\\n\\n\\nOur customer service representative was polite and well-dressed. He smiled appropriately and answered my questions, not from a rehearsed script, but from his own frame of reference. He shirt was neatly pressed and his hair was professionally coifed.\\nGender of the Customer: Female\\nAge of Customer: 26.03\\nAre they an active customer? Active\\n\\nSatisfaction: 1\\n\\n\\nfriendly, but could not making any decisions on own\\nGender of the Customer: Female\\nAge of Customer: 55.97\\nAre they an active customer? Active\\n\\nSatisfaction: 0\\n\\n\\nit seems that they never have the class of car that I ordered.  also, the last time I got there earlier than I thought and they wouldn\\'t let me have the car until the time that I had requested it because their computer wouldn\\'t allow it.\\nGender of the Customer: Male\\nAge of Customer: 18.77\\nAre they an active customer? Active\\n\\nSatisfaction: 0\\n\\n\\nThe only unpleasant aspects of interacting with personnel from the company was having to wait in a long line since most windows were closed. Also, they tried really hard to sell additional insurance coverage which was obnoxious.\\nGender of the Customer: Female\\nAge of Customer: 41.67\\nAre they an active customer? Inactive\\n\\nSatisfaction: 0\\n\\n\\nExperience was fine\\nGender of the Customer: Male\\nAge of Customer: 20.0\\nAre they an active customer? Inactive\\n\\nSatisfaction: 1\\n\\n\\nNone I  rarely rent cars\\nGender of the Customer: Male\\nAge of Customer: 14.64\\nAre they an active customer? Active\\n\\nSatisfaction: 1\\n\\n\\nThey did not have the car I wanted.  upgraded me to a car I did not like and did not want.\\nGender of the Customer: Male\\nAge of Customer: 46.0\\nAre they an active customer? Inactive\\n\\nSatisfaction: 0\\n\\n\\nadequate to the price. It was fine\\nGender of the Customer: Female\\nAge of Customer: 49.05\\nAre they an active customer? Active\\n\\nSatisfaction: 1\\n\\n\\nThey were too pushy in trying to sell insurance.\\nGender of the Customer: Female\\nAge of Customer: 39.75\\nAre they an active customer? Active\\n\\nSatisfaction: 0\\n\\n\\nVERY slow service!\\nGender of the Customer: Female\\nAge of Customer: 44.03\\nAre they an active customer? Active\\n\\nSatisfaction: 0\\n\\n\\nBased on the customer service personnel I encountered most recently, I would say it is vastly preferable for the personnel to be able to at least pretend to care whether the customer ever actually receives a car rental that was reserved months in advance.\\nGender of the Customer: Female\\nAge of Customer: 42.0\\nAre they an active customer? Inactive\\n\\nSatisfaction: 0\\n\\n\\nGuys were extremely nice.\\nGender of the Customer: Male\\nAge of Customer: 35.1\\nAre they an active customer? Active\\n\\nSatisfaction: 1\\n\\n\\nVery good. willing to drop me off and pick me up from location, upgraded me to higher level due to availability\\nGender of the Customer: Female\\nAge of Customer: 43.0\\nAre they an active customer? Active\\n\\nSatisfaction: 1\\n\\n\\nThe company was overwhelmed by the number of customers verse the number of available agents and they were not articulating their situation to the customers well enough. I think we waited for almost 3 hours just to get a rental car. It was ridiculous.\\nGender of the Customer: Male\\nAge of Customer: 61.71\\nAre they an active customer? Inactive\\n\\nSatisfaction: 0\\n\\n\\nThe car should have been brought to us instead of us trying to find it in the lot.\\nGender of the Customer: Male\\nAge of Customer: 17.01\\nAre they an active customer? Inactive\\n\\nSatisfaction: 0\\n\\n\\nI had to wait in line for a long time to get and return the vehicle.  Also, the car was not clean.\\nGender of the Customer: Female\\nAge of Customer: 52.15\\nAre they an active customer? Inactive\\n\\nSatisfaction: 0\\n\\n\\nWe dealt with customer service at car pick-up place, and drive off in few minutes.\\nGender of the Customer: Male\\nAge of Customer: 50.1\\nAre they an active customer? Active\\n\\nSatisfaction: 1\\n\\n\\nCustomer service was good at MSP airport and the process was very fast.  From getting off of the plane to leaving with my rental car was less than 45 minutes.\\nGender of the Customer: Female\\nAge of Customer: 33.6\\nAre they an active customer? Active\\n\\nSatisfaction: 1\\n\\n'"
            ]
          },
          "execution_count": 70,
          "metadata": {},
          "output_type": "execute_result"
        }
      ],
      "source": [
        "promptExamples"
      ]
    },
    {
      "cell_type": "code",
      "execution_count": null,
      "metadata": {
        "id": "huwqUb-HmXPr"
      },
      "outputs": [],
      "source": []
    },
    {
      "cell_type": "markdown",
      "metadata": {
        "id": "rK0_ZKCcmXPr"
      },
      "source": [
        "<a id=\"models\"></a>\n",
        "## Foundation Models on Watsonx"
      ]
    },
    {
      "cell_type": "markdown",
      "metadata": {
        "id": "RRIVQf_MmXPr"
      },
      "source": [
        "\n",
        "\n",
        "Below code invokes Watson Machine Learning API to invoke Watsonx.ai LLMs\n"
      ]
    },
    {
      "cell_type": "code",
      "execution_count": null,
      "metadata": {
        "id": "aHiX5DxDmXPr"
      },
      "outputs": [],
      "source": [
        "import requests\n",
        "\n",
        "class Prompt:\n",
        "    def __init__(self, access_token, project_id):\n",
        "        self.access_token = access_token\n",
        "        self.project_id = project_id\n",
        "\n",
        "    def generate(self, input, model_id, parameters):\n",
        "        wml_url = \"https://us-south.ml.cloud.ibm.com/ml/v1-beta/generation/text?version=2023-05-28\"\n",
        "        Headers = {\n",
        "            \"Authorization\": \"Bearer \" + self.access_token,\n",
        "            \"Content-Type\": \"application/json\",\n",
        "            \"Accept\": \"application/json\"\n",
        "        }\n",
        "        data = {\n",
        "            \"model_id\": model_id,\n",
        "            \"input\": input,\n",
        "            \"parameters\": parameters,\n",
        "            \"project_id\": self.project_id\n",
        "        }\n",
        "        response = requests.post(wml_url, json=data, headers=Headers)\n",
        "        if response.status_code == 200:\n",
        "            return response.json()[\"results\"][0][\"generated_text\"]\n",
        "        else:\n",
        "            return response.text"
      ]
    },
    {
      "cell_type": "markdown",
      "metadata": {
        "id": "UXinZfLvmXPr"
      },
      "source": [
        "<a id=\"predict\"></a>\n",
        "## Evaluate the model, prompt and parameters"
      ]
    },
    {
      "cell_type": "markdown",
      "metadata": {
        "id": "KOecYueDmXPs"
      },
      "source": [
        "### **1. Customer satisfaction**"
      ]
    },
    {
      "cell_type": "markdown",
      "metadata": {
        "id": "G0YeosLFmXPs"
      },
      "source": [
        "Define instructions for the model to recognize if customer was satisfied or unsatisfied.\n",
        "\n",
        "**Note:** Please **start with using [watsonx.ai Prompt Lab](https://dataplatform.cloud.ibm.com/wx/home?context=wx)** to find better prompts that provides you the best result on a small subset training records (under `train_data` variable). Make sure to not run an inference of all of `train_data`, as it'll take a long time to get the results. To get a sample from `train_data`, you can use e.g.`train_data.head(n=10)` to get first 10 records, or `train_data.sample(n=10)` to get random 10 records. Only once you have identified the best performing prompt, update this notebook to use the prompt and compute the metrics on the test data.\n",
        "\n",
        "**Action:** Please edit the below cell and add your own prompt here. In the below prompt, we have the instruction (first sentence) and one example included in the prompt.  If you want to change the prompt or add your own examples or more examples, please change the below prompt accordingly."
      ]
    },
    {
      "cell_type": "code",
      "execution_count": null,
      "metadata": {
        "id": "RGlxrd30mXPs"
      },
      "outputs": [],
      "source": [
        "satisfaction_instruction = \"\"\"\n",
        "You have to decide whether a customer is satisfied or unsatisfied based on the feedback message. Print 0 for unsatisifed and 1 for satisfied\\n\n",
        "\"\"\" + promptExamples"
      ]
    },
    {
      "cell_type": "code",
      "execution_count": null,
      "metadata": {
        "id": "L4E446pxmXPs",
        "outputId": "88f3c1f6-3c3c-4597-b92d-e8dff396777a"
      },
      "outputs": [
        {
          "name": "stdout",
          "output_type": "stream",
          "text": [
            "\n",
            "You have to decide whether a customer is satisfied or unsatisfied based on the feedback message. Print 0 for unsatisifed and 1 for satisfied\n",
            "\n",
            "\n",
            "Employees had nice, new uniforms.\n",
            "Gender of the Customer: Male\n",
            "Age of Customer: 16.06\n",
            "Are they an active customer? Inactive\n",
            "\n",
            "Satisfaction: 1\n",
            "\n",
            "\n",
            "customer service was great until we returned the car.  I experienced an issue with damage to the car, and felt that things were left unanswered and still waiting for a response from them.\n",
            "Gender of the Customer: Male\n",
            "Age of Customer: 58.71\n",
            "Are they an active customer? Inactive\n",
            "\n",
            "Satisfaction: 0\n",
            "\n",
            "\n",
            "I would like the personnel to pretend they care about customer, at least.\n",
            "Gender of the Customer: Female\n",
            "Age of Customer: 40.5\n",
            "Are they an active customer? Inactive\n",
            "\n",
            "Satisfaction: 0\n",
            "\n",
            "\n",
            "The service I have is always good, I have used the same company for many years and I know the counter personnel personally.  It is always good to know that they are willing to help you in any situation. \n",
            "Gender of the Customer: Female\n",
            "Age of Customer: 41.92\n",
            "Are they an active customer? Active\n",
            "\n",
            "Satisfaction: 1\n",
            "\n",
            "\n",
            "It was good, got the car we wanted without much of a wait in picking up and dropping off\n",
            "Gender of the Customer: Male\n",
            "Age of Customer: 53.28\n",
            "Are they an active customer? Inactive\n",
            "\n",
            "Satisfaction: 1\n",
            "\n",
            "\n",
            "They had the class of car that I ordered.\n",
            "Gender of the Customer: Female\n",
            "Age of Customer: 64.64\n",
            "Are they an active customer? Active\n",
            "\n",
            "Satisfaction: 1\n",
            "\n",
            "\n",
            "price TOO HIGH and off premise location is NOT convenient.\n",
            "Gender of the Customer: Female\n",
            "Age of Customer: 16.1\n",
            "Are they an active customer? Inactive\n",
            "\n",
            "Satisfaction: 0\n",
            "\n",
            "\n",
            "Everything was great.  The line was a little long to get the car but it was a good experience.\n",
            "Gender of the Customer: Female\n",
            "Age of Customer: 34.32\n",
            "Are they an active customer? Inactive\n",
            "\n",
            "Satisfaction: 1\n",
            "\n",
            "\n",
            "Did not have some problems. My car was not ready on time.\n",
            "Gender of the Customer: Male\n",
            "Age of Customer: 33.0\n",
            "Are they an active customer? Active\n",
            "\n",
            "Satisfaction: 0\n",
            "\n",
            "\n",
            "States have different rules and regulations pertaining to speed, radar detectors, even when light should be on.  Customer services reps should have a handout or be knowledgeable of a particular state's laws.\n",
            "Gender of the Customer: Male\n",
            "Age of Customer: 42.17\n",
            "Are they an active customer? Inactive\n",
            "\n",
            "Satisfaction: 0\n",
            "\n",
            "\n",
            "The customer service people were very nice.  During my vacation I locked my keys in the car.  The rental company sent someone out with a new set of keys to unlock the car.\n",
            "Gender of the Customer: Female\n",
            "Age of Customer: 43.0\n",
            "Are they an active customer? Active\n",
            "\n",
            "Satisfaction: 1\n",
            "\n",
            "\n",
            "If there was not a desired vehicle available the reps explored all options including competitors to assist in finding an available vehicle. This level of service brought me back not to their competitor but the company as this reflects on their overall quality.\n",
            "Gender of the Customer: Male\n",
            "Age of Customer: 56.47\n",
            "Are they an active customer? Active\n",
            "\n",
            "Satisfaction: 1\n",
            "\n",
            "\n",
            "\"sorely lacking\"  helpdesk was not much helpfull\n",
            "Gender of the Customer: Female\n",
            "Age of Customer: 57.55\n",
            "Are they an active customer? Inactive\n",
            "\n",
            "Satisfaction: 0\n",
            "\n",
            "\n",
            "what customer service? It was a nightmare\n",
            "Gender of the Customer: Male\n",
            "Age of Customer: 45.51\n",
            "Are they an active customer? Inactive\n",
            "\n",
            "Satisfaction: 0\n",
            "\n",
            "\n",
            "Customer Service is great since you don't have to deal with any people, per se.  The car is ready and waiting for you and the shuttle just drops you off to it.\n",
            "Gender of the Customer: Female\n",
            "Age of Customer: 56.19\n",
            "Are they an active customer? Inactive\n",
            "\n",
            "Satisfaction: 1\n",
            "\n",
            "\n",
            "Customer Service at Alamo was RUDE. We waited in line for over an hour to get our car. Car was bad. Had to change it few days later. Another family traveling with us was upgraded to a larger car as they were out of the type of car booked.\n",
            "Gender of the Customer: Male\n",
            "Age of Customer: 55.11\n",
            "Are they an active customer? Inactive\n",
            "\n",
            "Satisfaction: 0\n",
            "\n",
            "\n",
            "No problems\n",
            "Gender of the Customer: Male\n",
            "Age of Customer: 64.8\n",
            "Are they an active customer? Active\n",
            "\n",
            "Satisfaction: 1\n",
            "\n",
            "\n",
            "It would be nice if they included maps to the airport drop off with the car, last time we got lost returning the car and almost missed the flight.  There was nothing on the exit that indicated rental returns.  Actually the one I really liked, was when we\n",
            "Gender of the Customer: Male\n",
            "Age of Customer: 61.71\n",
            "Are they an active customer? Inactive\n",
            "\n",
            "Satisfaction: 0\n",
            "\n",
            "\n",
            "The rental car person was impertinent.\n",
            "Gender of the Customer: Male\n",
            "Age of Customer: 66.2\n",
            "Are they an active customer? Active\n",
            "\n",
            "Satisfaction: 1\n",
            "\n",
            "\n",
            "My experience up to date was  good.  It was inconvenient to return car clean, but I had to pay the hefty charge for rental.\n",
            "Gender of the Customer: Female\n",
            "Age of Customer: 45.0\n",
            "Are they an active customer? Active\n",
            "\n",
            "Satisfaction: 1\n",
            "\n",
            "\n",
            "Even economy class cars are too expensive.\n",
            "Gender of the Customer: Female\n",
            "Age of Customer: 14.23\n",
            "Are they an active customer? Inactive\n",
            "\n",
            "Satisfaction: 0\n",
            "\n",
            "\n",
            "No suggestions.  Customer Service was good.\n",
            "Gender of the Customer: Male\n",
            "Age of Customer: 25.03\n",
            "Are they an active customer? Active\n",
            "\n",
            "Satisfaction: 1\n",
            "\n",
            "\n",
            "Had problems with windshield wipers that affected usability.  Problem was not solved.  Customer service was NOT helpful. Because of franchising, I was not able to get help from an office other than the one I rented from.  I had driven 60 miles from that location and there was another location 2 miles from where I was staying.\n",
            "Gender of the Customer: Female\n",
            "Age of Customer: 46.0\n",
            "Are they an active customer? Inactive\n",
            "\n",
            "Satisfaction: 0\n",
            "\n",
            "\n",
            "I thought that they were very short and not very friendly. I felt like they hated their job and could care less about the customer.\n",
            "Gender of the Customer: Male\n",
            "Age of Customer: 52.27\n",
            "Are they an active customer? Inactive\n",
            "\n",
            "Satisfaction: 0\n",
            "\n",
            "\n",
            "Customer service was friendly and helpful.\n",
            "Gender of the Customer: Female\n",
            "Age of Customer: 41.92\n",
            "Are they an active customer? Active\n",
            "\n",
            "Satisfaction: 1\n",
            "\n",
            "\n",
            "They were friendly and helpful enough.\n",
            "Gender of the Customer: Female\n",
            "Age of Customer: 30.89\n",
            "Are they an active customer? Active\n",
            "\n",
            "Satisfaction: 1\n",
            "\n",
            "\n",
            "They were very good and took care of what I needed. Very quick.\n",
            "Gender of the Customer: Female\n",
            "Age of Customer: 62.0\n",
            "Are they an active customer? Active\n",
            "\n",
            "Satisfaction: 1\n",
            "\n",
            "\n",
            "We got our car very quickly.\n",
            "Gender of the Customer: Male\n",
            "Age of Customer: 52.1\n",
            "Are they an active customer? Active\n",
            "\n",
            "Satisfaction: 1\n",
            "\n",
            "\n",
            "Customer service was fine\n",
            "Gender of the Customer: Male\n",
            "Age of Customer: 47.85\n",
            "Are they an active customer? Active\n",
            "\n",
            "Satisfaction: 1\n",
            "\n",
            "\n",
            "People were nice.  Service was fast.\n",
            "Gender of the Customer: Female\n",
            "Age of Customer: 53.12\n",
            "Are they an active customer? Active\n",
            "\n",
            "Satisfaction: 1\n",
            "\n",
            "\n",
            "price too high and location off premise too far\n",
            "Gender of the Customer: Female\n",
            "Age of Customer: 12.34\n",
            "Are they an active customer? Inactive\n",
            "\n",
            "Satisfaction: 0\n",
            "\n",
            "\n",
            "customer service was OK\n",
            "Gender of the Customer: Male\n",
            "Age of Customer: 43.91\n",
            "Are they an active customer? Active\n",
            "\n",
            "Satisfaction: 1\n",
            "\n",
            "\n",
            "Our customer service representative was polite and well-dressed. He smiled appropriately and answered my questions, not from a rehearsed script, but from his own frame of reference. He shirt was neatly pressed and his hair was professionally coifed.\n",
            "Gender of the Customer: Female\n",
            "Age of Customer: 26.03\n",
            "Are they an active customer? Active\n",
            "\n",
            "Satisfaction: 1\n",
            "\n",
            "\n",
            "friendly, but could not making any decisions on own\n",
            "Gender of the Customer: Female\n",
            "Age of Customer: 55.97\n",
            "Are they an active customer? Active\n",
            "\n",
            "Satisfaction: 0\n",
            "\n",
            "\n",
            "it seems that they never have the class of car that I ordered.  also, the last time I got there earlier than I thought and they wouldn't let me have the car until the time that I had requested it because their computer wouldn't allow it.\n",
            "Gender of the Customer: Male\n",
            "Age of Customer: 18.77\n",
            "Are they an active customer? Active\n",
            "\n",
            "Satisfaction: 0\n",
            "\n",
            "\n",
            "The only unpleasant aspects of interacting with personnel from the company was having to wait in a long line since most windows were closed. Also, they tried really hard to sell additional insurance coverage which was obnoxious.\n",
            "Gender of the Customer: Female\n",
            "Age of Customer: 41.67\n",
            "Are they an active customer? Inactive\n",
            "\n",
            "Satisfaction: 0\n",
            "\n",
            "\n",
            "Experience was fine\n",
            "Gender of the Customer: Male\n",
            "Age of Customer: 20.0\n",
            "Are they an active customer? Inactive\n",
            "\n",
            "Satisfaction: 1\n",
            "\n",
            "\n",
            "None I  rarely rent cars\n",
            "Gender of the Customer: Male\n",
            "Age of Customer: 14.64\n",
            "Are they an active customer? Active\n",
            "\n",
            "Satisfaction: 1\n",
            "\n",
            "\n",
            "They did not have the car I wanted.  upgraded me to a car I did not like and did not want.\n",
            "Gender of the Customer: Male\n",
            "Age of Customer: 46.0\n",
            "Are they an active customer? Inactive\n",
            "\n",
            "Satisfaction: 0\n",
            "\n",
            "\n",
            "adequate to the price. It was fine\n",
            "Gender of the Customer: Female\n",
            "Age of Customer: 49.05\n",
            "Are they an active customer? Active\n",
            "\n",
            "Satisfaction: 1\n",
            "\n",
            "\n",
            "They were too pushy in trying to sell insurance.\n",
            "Gender of the Customer: Female\n",
            "Age of Customer: 39.75\n",
            "Are they an active customer? Active\n",
            "\n",
            "Satisfaction: 0\n",
            "\n",
            "\n",
            "VERY slow service!\n",
            "Gender of the Customer: Female\n",
            "Age of Customer: 44.03\n",
            "Are they an active customer? Active\n",
            "\n",
            "Satisfaction: 0\n",
            "\n",
            "\n",
            "Based on the customer service personnel I encountered most recently, I would say it is vastly preferable for the personnel to be able to at least pretend to care whether the customer ever actually receives a car rental that was reserved months in advance.\n",
            "Gender of the Customer: Female\n",
            "Age of Customer: 42.0\n",
            "Are they an active customer? Inactive\n",
            "\n",
            "Satisfaction: 0\n",
            "\n",
            "\n",
            "Guys were extremely nice.\n",
            "Gender of the Customer: Male\n",
            "Age of Customer: 35.1\n",
            "Are they an active customer? Active\n",
            "\n",
            "Satisfaction: 1\n",
            "\n",
            "\n",
            "Very good. willing to drop me off and pick me up from location, upgraded me to higher level due to availability\n",
            "Gender of the Customer: Female\n",
            "Age of Customer: 43.0\n",
            "Are they an active customer? Active\n",
            "\n",
            "Satisfaction: 1\n",
            "\n",
            "\n",
            "The company was overwhelmed by the number of customers verse the number of available agents and they were not articulating their situation to the customers well enough. I think we waited for almost 3 hours just to get a rental car. It was ridiculous.\n",
            "Gender of the Customer: Male\n",
            "Age of Customer: 61.71\n",
            "Are they an active customer? Inactive\n",
            "\n",
            "Satisfaction: 0\n",
            "\n",
            "\n",
            "The car should have been brought to us instead of us trying to find it in the lot.\n",
            "Gender of the Customer: Male\n",
            "Age of Customer: 17.01\n",
            "Are they an active customer? Inactive\n",
            "\n",
            "Satisfaction: 0\n",
            "\n",
            "\n",
            "I had to wait in line for a long time to get and return the vehicle.  Also, the car was not clean.\n",
            "Gender of the Customer: Female\n",
            "Age of Customer: 52.15\n",
            "Are they an active customer? Inactive\n",
            "\n",
            "Satisfaction: 0\n",
            "\n",
            "\n",
            "We dealt with customer service at car pick-up place, and drive off in few minutes.\n",
            "Gender of the Customer: Male\n",
            "Age of Customer: 50.1\n",
            "Are they an active customer? Active\n",
            "\n",
            "Satisfaction: 1\n",
            "\n",
            "\n",
            "Customer service was good at MSP airport and the process was very fast.  From getting off of the plane to leaving with my rental car was less than 45 minutes.\n",
            "Gender of the Customer: Female\n",
            "Age of Customer: 33.6\n",
            "Are they an active customer? Active\n",
            "\n",
            "Satisfaction: 1\n",
            "\n",
            "\n"
          ]
        }
      ],
      "source": [
        "print(satisfaction_instruction)"
      ]
    },
    {
      "cell_type": "markdown",
      "metadata": {
        "id": "nVHy6QQWmXPt"
      },
      "source": [
        "### Defining the model parameters\n",
        "We need to provide a set of model parameters that will influence the result. We will use IBM's Granite model."
      ]
    },
    {
      "cell_type": "code",
      "execution_count": null,
      "metadata": {
        "id": "VkrSVUhxmXPt"
      },
      "outputs": [],
      "source": [
        "parameters = {\n",
        "    \"decoding_method\": \"greedy\",\n",
        "    \"max_new_tokens\": 10,\n",
        "    \"min_new_tokens\": 1,\n",
        "    \"repetition_penalty\": 1\n",
        "}\n",
        "\n",
        "model_id = \"ibm/granite-13b-instruct-v1\""
      ]
    },
    {
      "cell_type": "markdown",
      "metadata": {
        "id": "EwJaHxCkmXPt"
      },
      "source": [
        "Analyze the customer satisfaction for inputs from the test set.\n",
        "\n",
        "**Note:** Execution of this cell could take several minutes."
      ]
    },
    {
      "cell_type": "code",
      "execution_count": null,
      "metadata": {
        "scrolled": true,
        "id": "esbVE6-tmXPt",
        "outputId": "516b866f-e689-4c44-ee3d-4c365daacb09"
      },
      "outputs": [
        {
          "name": "stdout",
          "output_type": "stream",
          "text": [
            "last time I rented a car was at Manchester, NH airport and they do not have office there anymore\n",
            "Gender of the customer: Female\n",
            "Age of Customer: 49.99\n",
            "Are they an active customer? Inactive\n",
            "Please lower the prices.\n",
            "Gender of the customer: Male\n",
            "Age of Customer: 56.05\n",
            "Are they an active customer? Inactive\n",
            "Excellent response dealing with child seat.\n",
            "Gender of the customer: Female\n",
            "Age of Customer: 64.64\n",
            "Are they an active customer? Active\n",
            "all went quite smoothly... it was Enterprise, so they even picked me up to get the car... it was very convenient.\n",
            "Gender of the customer: Male\n",
            "Age of Customer: 46.51\n",
            "Are they an active customer? Inactive\n",
            "Slow, long lineup\n",
            "Gender of the customer: Male\n",
            "Age of Customer: 17.01\n",
            "Are they an active customer? Inactive\n",
            "Customer is important for the enjoyment of the car.  If it's a bad experience we won't return to that company if we can avoid it - they should remember abotut this\n",
            "Gender of the customer: Female\n",
            "Age of Customer: 32.02\n",
            "Are they an active customer? Active\n",
            "They were actually very nice. It was in Rome and there was a language barrier, but we overcame it.\n",
            "Gender of the customer: Female\n",
            "Age of Customer: 55.0\n",
            "Are they an active customer? Active\n",
            "They should upgrade me every time.\n",
            "Gender of the customer: Male\n",
            "Age of Customer: 52.15\n",
            "Are they an active customer? Inactive\n",
            "They provided the best service thus far. They are very friendly and helpful. I have rented from other companies before both cheaper and more expensive.\n",
            "Gender of the customer: Male\n",
            "Age of Customer: 29.03\n",
            "Are they an active customer? Active\n",
            "I recently rented a car and they were outstanding.  The customer service rep was very helpful and courteous.  They even let me extend my rental by a couple of hours for no charge at all. I was very pleased with my experience and I would go back.\n",
            "Gender of the customer: Female\n",
            "Age of Customer: 30.89\n",
            "Are they an active customer? Active\n",
            "It was okay, we got the car quickly, which is the most important thing\n",
            "Gender of the customer: Male\n",
            "Age of Customer: 53.68\n",
            "Are they an active customer? Active\n",
            "they were fine.\n",
            "Gender of the customer: Male\n",
            "Age of Customer: 60.37\n",
            "Are they an active customer? Active\n",
            "Most windows were closed.\n",
            "Gender of the customer: Male\n",
            "Age of Customer: 62.75\n",
            "Are they an active customer? Active\n",
            "The woman at the counter was friendly and tried to accommodate me as best she could. The counter was close to the terminal and the whole thing was quick and expedient.\n",
            "Gender of the customer: Female\n",
            "Age of Customer: 45.51\n",
            "Are they an active customer? Active\n",
            "it was fine, I had no problem at all.\n",
            "Gender of the customer: Female\n",
            "Age of Customer: 55.0\n",
            "Are they an active customer? Active\n",
            "Person very friendly but only person working counter\n",
            "Gender of the customer: Male\n",
            "Age of Customer: 35.65\n",
            "Are they an active customer? Active\n",
            "It was fine\n",
            "Gender of the customer: Female\n",
            "Age of Customer: 60.0\n",
            "Are they an active customer? Active\n",
            "car cost more because I didn't pay when I reserved it\n",
            "Gender of the customer: Male\n",
            "Age of Customer: 42.35\n",
            "Are they an active customer? Inactive\n",
            "Please stop increasing the prices.\n",
            "Gender of the customer: Male\n",
            "Age of Customer: 54.02\n",
            "Are they an active customer? Inactive\n",
            "Wonderful experience - the rental and whole process was seamless\n",
            "Gender of the customer: Female\n",
            "Age of Customer: 22.0\n",
            "Are they an active customer? Inactive\n",
            "They offered detailed directions.\n",
            "Gender of the customer: Female\n",
            "Age of Customer: 14.57\n",
            "Are they an active customer? Active\n",
            "fast service\n",
            "Gender of the customer: Female\n",
            "Age of Customer: 44.03\n",
            "Are they an active customer? Active\n",
            "They had problem to find reservation number, so whole process took too long time.\n",
            "Gender of the customer: Male\n",
            "Age of Customer: 52.1\n",
            "Are they an active customer? Active\n",
            "it was a great experience\n",
            "Gender of the customer: Female\n",
            "Age of Customer: 52.65\n",
            "Are they an active customer? Active\n",
            "Last time I rented a car was when I went skiing with my whole family.  We got a Chevy Blazer.  We didn't think it was as large as a Ford Explorer, so we asked to switch.  The agent was very nice and gave us the Ford Explorer.\n",
            "Gender of the customer: Female\n",
            "Age of Customer: 41.98\n",
            "Are they an active customer? Active\n",
            "Everything went fine.  Folks were friendly and informed.\n",
            "Gender of the customer: Male\n",
            "Age of Customer: 16.7\n",
            "Are they an active customer? Active\n",
            "Service was incredibly fast. Car was parked in area close to rental office.\n",
            "Gender of the customer: Male\n",
            "Age of Customer: 22.88\n",
            "Are they an active customer? Active\n",
            "Customer service is horrible. I reserved through on-line which did not indicate/state I had to provide proof of insurance during pickup. The manager denied the reservation and after long and rude argument he finally gave in.\n",
            "Gender of the customer: Female\n",
            "Age of Customer: 15.38\n",
            "Are they an active customer? Inactive\n",
            "The people were very nice.  Directions to and from our hotel, the rental company location and tourists attractions were given and they were happy to help us out.\n",
            "Gender of the customer: Female\n",
            "Age of Customer: 53.37\n",
            "Are they an active customer? Active\n",
            "Have not rented a car since last October.  Customer Service was good, shuttle service was available to and from airport.  Scheduled pickup was on time and they even found a package we had left in the car and brought it to the shuttle.\n",
            "Gender of the customer: Male\n",
            "Age of Customer: 34.95\n",
            "Are they an active customer? Active\n",
            "I haven't actually spoken with anyone from a car rental organization for quite a while.  When I did (probably about three years ago), I believe they were polite enough. However, I always hate to wait in lines when we have a lot of luggage.\n",
            "Gender of the customer: Male\n",
            "Age of Customer: 45.49\n",
            "Are they an active customer? Inactive\n",
            "Customer service was average.  They did not go above and beyond.  They did, however, do more than the minimum.\n",
            "Gender of the customer: Male\n",
            "Age of Customer: 14.69\n",
            "Are they an active customer? Inactive\n",
            "Did not have any problems. My car was ready on time and it was the one I had asked for.\n",
            "Gender of the customer: Male\n",
            "Age of Customer: 33.0\n",
            "Are they an active customer? Active\n",
            "Everything was fine with my last car rental.\n",
            "Gender of the customer: Male\n",
            "Age of Customer: 32.85\n",
            "Are they an active customer? Active\n",
            "Agents usually try to get you to take insurance and pay for full tank of gas.  Some persist even after a \"no thanks.\"  Even after noting preferences on my frequent user file that says I don't want them.\n",
            "Gender of the customer: Female\n",
            "Age of Customer: 33.49\n",
            "Are they an active customer? Active\n",
            "They forgot to ask for my driver's license.\n",
            "Gender of the customer: Female\n",
            "Age of Customer: 44.98\n",
            "Are they an active customer? Active\n",
            "I get keys from customer service and was able to start my vacation,it was nice\n",
            "Gender of the customer: Male\n",
            "Age of Customer: 55.2\n",
            "Are they an active customer? Inactive\n",
            "For the most part, they it's been really good service.  I usually rent from the airports because it's much cheaper.  Once they charged me over and I had to hunt down the accounting department to get my money back.  it was a pain.\n",
            "Gender of the customer: Female\n",
            "Age of Customer: 33.49\n",
            "Are they an active customer? Inactive\n",
            "The people where generally good, but overworked.  The printer went down.  The poor woman working the register was about to pull her hair out.  Customers were yelling at her, not me, but she was not in charge of the issues.\n",
            "Gender of the customer: Female\n",
            "Age of Customer: 42.35\n",
            "Are they an active customer? Inactive\n",
            "I rented over the internet, and there were no problems with the reservation or pick-up of the vehicle.\n",
            "Gender of the customer: Male\n",
            "Age of Customer: 22.88\n",
            "Are they an active customer? Active\n",
            "Customer Service was quick and friendly.  I received my car with little hassles.\n",
            "Gender of the customer: Male\n",
            "Age of Customer: 26.26\n",
            "Are they an active customer? Active\n",
            "The person who assisted me was not very friendly and didn't like to give the details I was asking for (gas refill packages, insurance, etc.).\n",
            "Gender of the customer: Female\n",
            "Age of Customer: 62.61\n",
            "Are they an active customer? Inactive\n",
            "greater expedience - the rental and whole process was easy and fast\n",
            "Gender of the customer: Female\n",
            "Age of Customer: 24.0\n",
            "Are they an active customer? Inactive\n",
            "It took us almost three hours just to get a car! It was absurd.\n",
            "Gender of the customer: Male\n",
            "Age of Customer: 60.2\n",
            "Are they an active customer? Inactive\n",
            "the rep was friendly but it was so loud in there that I could not hear what she was saying. I HATE having to walk across a big lot with all of my bags in search of my car which is always in the furthest corner.\n",
            "Gender of the customer: Female\n",
            "Age of Customer: 16.75\n",
            "Are they an active customer? Active\n",
            "No problems\n",
            "Gender of the customer: Male\n",
            "Age of Customer: 53.25\n",
            "Are they an active customer? Active\n",
            "I had no problems with the service\n",
            "Gender of the customer: Female\n",
            "Age of Customer: 44.93\n",
            "Are they an active customer? Active\n",
            "My experience was positive .The thing I didnt like was returning the car with full tank.  It was time consuming, but I didn't want to pay fill-up charge to the rental company.\n",
            "Gender of the customer: Female\n",
            "Age of Customer: 44.0\n",
            "Are they an active customer? Active\n",
            "Customer service was extremely helpful.  They knew I was visiting my 91 year old mother and upgraded at no cost to a car that would be more comfortable for her.\n",
            "Gender of the customer: Male\n",
            "Age of Customer: 22.23\n",
            "Are they an active customer? Inactive\n",
            "I reserved the car over internet,, and had no problems with pick-up of the vehicle.\n",
            "Gender of the customer: Male\n",
            "Age of Customer: 22.88\n",
            "Are they an active customer? Active\n"
          ]
        }
      ],
      "source": [
        "results = []\n",
        "prompt = Prompt(access_token, project_id)\n",
        "comments = list(test_data.Customer_Service)\n",
        "satisfaction = list(test_data.Satisfaction.astype(str))\n",
        "\n",
        "for index,input_text in enumerate(comments):\n",
        "    input = input_text + \"\\nGender of the customer: \" + str(test_data.Gender[index]) + \"\\nAge of Customer: \" + str(test_data.Age[index]) + \"\\nAre they an active customer? \" + str(test_data.Customer_Status[index])\n",
        "    print(input)\n",
        "    results.append(prompt.generate(satisfaction_instruction + \"\\n\" + input + \"\\n\\nSatisfaction: \", model_id, parameters))"
      ]
    },
    {
      "cell_type": "markdown",
      "metadata": {
        "id": "cdIF8UGymXPt"
      },
      "source": [
        "### Calculate the F1 micro score"
      ]
    },
    {
      "cell_type": "code",
      "execution_count": null,
      "metadata": {
        "scrolled": true,
        "id": "IEegHD2QmXPt",
        "outputId": "89dec527-956f-4556-8586-bfaba212c361"
      },
      "outputs": [
        {
          "name": "stdout",
          "output_type": "stream",
          "text": [
            "f1_micro_score 0.96\n"
          ]
        }
      ],
      "source": [
        "from sklearn.metrics import f1_score\n",
        "\n",
        "print('f1_micro_score', f1_score(satisfaction, [res[-1] for res in results], average='micro'))"
      ]
    },
    {
      "cell_type": "code",
      "execution_count": null,
      "metadata": {
        "id": "cm78HDnDmXPt",
        "outputId": "cf7e8934-102e-4d1c-ea9e-67e24049484f"
      },
      "outputs": [
        {
          "data": {
            "text/plain": [
              "['0',\n",
              " '0',\n",
              " '1',\n",
              " '1',\n",
              " '0',\n",
              " '1',\n",
              " '1',\n",
              " '0',\n",
              " '1',\n",
              " '1',\n",
              " '1',\n",
              " '1',\n",
              " '0',\n",
              " '1',\n",
              " '1',\n",
              " '0',\n",
              " '1',\n",
              " '0',\n",
              " '0',\n",
              " '1',\n",
              " '1',\n",
              " '1',\n",
              " '0',\n",
              " '1',\n",
              " '1',\n",
              " '1',\n",
              " '1',\n",
              " '0',\n",
              " '1',\n",
              " '1',\n",
              " '0',\n",
              " '0',\n",
              " '1',\n",
              " '1',\n",
              " '0',\n",
              " '0',\n",
              " '1',\n",
              " '1',\n",
              " '0',\n",
              " '1',\n",
              " '1',\n",
              " '0',\n",
              " '1',\n",
              " '0',\n",
              " '0',\n",
              " '1',\n",
              " '1',\n",
              " '1',\n",
              " '1',\n",
              " '1']"
            ]
          },
          "execution_count": 68,
          "metadata": {},
          "output_type": "execute_result"
        }
      ],
      "source": [
        "[res[-1] for res in results]"
      ]
    },
    {
      "cell_type": "markdown",
      "metadata": {
        "id": "1SwzjdKYmXPt"
      },
      "source": [
        "### **2. Offer Recommendation**"
      ]
    },
    {
      "cell_type": "markdown",
      "metadata": {
        "id": "-U5WXCoNmXPt"
      },
      "source": [
        "Define instructions for the model to recommend best offer to an unsatisfied customer.\n",
        "\n",
        "**Note:** Please **start with using [watsonx.ai Prompt Lab](https://dataplatform.cloud.ibm.com/wx/home?context=wx)** to find better prompts that provides you the best result on a small subset training records (under `train_data` variable). Make sure to not run an inference of all of `train_data`, as it'll take a long time to get the results. To get a sample from `train_data`, you can use e.g.`train_data.head(n=10)` to get first 10 records, or `train_data.sample(n=10)` to get random 10 records. Only once you have identified the best performing prompt, update this notebook to use the prompt and compute the metrics on the test data.\n",
        "\n",
        "**Action:** Please edit the below cell and add your own prompt here. In the below prompt, we have the instruction (first sentence) and one example included in the prompt.  If you want to change the prompt or add your own examples or more examples, please change the below prompt accordingly."
      ]
    },
    {
      "cell_type": "code",
      "execution_count": null,
      "metadata": {
        "id": "7J0zEk36mXP4"
      },
      "outputs": [],
      "source": [
        "offer_recommendation_instruction = \"\"\"\n",
        "   Generate next best offer to unsatisfied customer. Choose offer recommendation from the following list: 'On-demand pickup location', 'Free Upgrade', 'Voucher', 'Premium features'.\\n\n",
        "\n",
        "   comment: The company was overwhelmed by the number of customers verse the number of available agents and they were not articulating their situation to the customers well enough. I think we waited for almost 3 hours just to get a rental car. It was ridiculous.\\n\n",
        "   offer recommended: 'On-demand pickup location'\\n\\n\n",
        "\"\"\""
      ]
    },
    {
      "cell_type": "markdown",
      "metadata": {
        "id": "7uvORRkvmXP4"
      },
      "source": [
        "### Defining the model parameters\n",
        "We need to provide a set of model parameters that will influence the result. We will use IBM's Granite model."
      ]
    },
    {
      "cell_type": "code",
      "execution_count": null,
      "metadata": {
        "id": "W1okJUKtmXP4"
      },
      "outputs": [],
      "source": [
        "parameters = {\n",
        "    \"decoding_method\": \"greedy\",\n",
        "    \"max_new_tokens\": 30,\n",
        "    \"min_new_tokens\": 1,\n",
        "    \"repetition_penalty\": 1\n",
        "}\n",
        "\n",
        "model_id = \"ibm/granite-13b-instruct-v1\""
      ]
    },
    {
      "cell_type": "markdown",
      "metadata": {
        "id": "Qaa9EpRQmXP4"
      },
      "source": [
        "Filter test data for unsatisfied customer"
      ]
    },
    {
      "cell_type": "code",
      "execution_count": null,
      "metadata": {
        "id": "LHkUIOe4mXP4",
        "outputId": "1fbe624e-07c9-4f12-9947-0582f07f5a2f"
      },
      "outputs": [
        {
          "data": {
            "text/html": [
              "<div>\n",
              "<style scoped>\n",
              "    .dataframe tbody tr th:only-of-type {\n",
              "        vertical-align: middle;\n",
              "    }\n",
              "\n",
              "    .dataframe tbody tr th {\n",
              "        vertical-align: top;\n",
              "    }\n",
              "\n",
              "    .dataframe thead th {\n",
              "        text-align: right;\n",
              "    }\n",
              "</style>\n",
              "<table border=\"1\" class=\"dataframe\">\n",
              "  <thead>\n",
              "    <tr style=\"text-align: right;\">\n",
              "      <th></th>\n",
              "      <th>ID</th>\n",
              "      <th>Gender</th>\n",
              "      <th>Status</th>\n",
              "      <th>Children</th>\n",
              "      <th>Age</th>\n",
              "      <th>Customer_Status</th>\n",
              "      <th>Car_Owner</th>\n",
              "      <th>Customer_Service</th>\n",
              "      <th>Satisfaction</th>\n",
              "      <th>Business_Area</th>\n",
              "      <th>Action</th>\n",
              "    </tr>\n",
              "  </thead>\n",
              "  <tbody>\n",
              "    <tr>\n",
              "      <th>0</th>\n",
              "      <td>2771</td>\n",
              "      <td>Female</td>\n",
              "      <td>M</td>\n",
              "      <td>2</td>\n",
              "      <td>49.99</td>\n",
              "      <td>Inactive</td>\n",
              "      <td>No</td>\n",
              "      <td>last time I rented a car was at Manchester, NH...</td>\n",
              "      <td>0</td>\n",
              "      <td>Product: Functioning</td>\n",
              "      <td>On-demand pickup location</td>\n",
              "    </tr>\n",
              "    <tr>\n",
              "      <th>1</th>\n",
              "      <td>1133</td>\n",
              "      <td>Male</td>\n",
              "      <td>S</td>\n",
              "      <td>1</td>\n",
              "      <td>56.05</td>\n",
              "      <td>Inactive</td>\n",
              "      <td>No</td>\n",
              "      <td>Please lower the prices.</td>\n",
              "      <td>0</td>\n",
              "      <td>Product: Pricing and Billing</td>\n",
              "      <td>Free Upgrade</td>\n",
              "    </tr>\n",
              "    <tr>\n",
              "      <th>4</th>\n",
              "      <td>3541</td>\n",
              "      <td>Male</td>\n",
              "      <td>S</td>\n",
              "      <td>1</td>\n",
              "      <td>17.01</td>\n",
              "      <td>Inactive</td>\n",
              "      <td>Yes</td>\n",
              "      <td>Slow, long lineup</td>\n",
              "      <td>0</td>\n",
              "      <td>Product: Functioning</td>\n",
              "      <td>On-demand pickup location</td>\n",
              "    </tr>\n",
              "    <tr>\n",
              "      <th>5</th>\n",
              "      <td>2608</td>\n",
              "      <td>Female</td>\n",
              "      <td>S</td>\n",
              "      <td>0</td>\n",
              "      <td>32.02</td>\n",
              "      <td>Active</td>\n",
              "      <td>No</td>\n",
              "      <td>Customer is important for the enjoyment of the...</td>\n",
              "      <td>0</td>\n",
              "      <td>Product: Functioning</td>\n",
              "      <td>Voucher</td>\n",
              "    </tr>\n",
              "    <tr>\n",
              "      <th>7</th>\n",
              "      <td>3382</td>\n",
              "      <td>Male</td>\n",
              "      <td>M</td>\n",
              "      <td>1</td>\n",
              "      <td>52.15</td>\n",
              "      <td>Inactive</td>\n",
              "      <td>No</td>\n",
              "      <td>They should upgrade me every time.</td>\n",
              "      <td>0</td>\n",
              "      <td>Service: Knowledge</td>\n",
              "      <td>Free Upgrade</td>\n",
              "    </tr>\n",
              "  </tbody>\n",
              "</table>\n",
              "</div>"
            ],
            "text/plain": [
              "     ID  Gender Status  Children    Age Customer_Status Car_Owner  \\\n",
              "0  2771  Female      M         2  49.99        Inactive        No   \n",
              "1  1133    Male      S         1  56.05        Inactive        No   \n",
              "4  3541    Male      S         1  17.01        Inactive       Yes   \n",
              "5  2608  Female      S         0  32.02          Active        No   \n",
              "7  3382    Male      M         1  52.15        Inactive        No   \n",
              "\n",
              "                                    Customer_Service  Satisfaction  \\\n",
              "0  last time I rented a car was at Manchester, NH...             0   \n",
              "1                           Please lower the prices.             0   \n",
              "4                                  Slow, long lineup             0   \n",
              "5  Customer is important for the enjoyment of the...             0   \n",
              "7                 They should upgrade me every time.             0   \n",
              "\n",
              "                  Business_Area                     Action  \n",
              "0          Product: Functioning  On-demand pickup location  \n",
              "1  Product: Pricing and Billing               Free Upgrade  \n",
              "4          Product: Functioning  On-demand pickup location  \n",
              "5          Product: Functioning                    Voucher  \n",
              "7            Service: Knowledge               Free Upgrade  "
            ]
          },
          "execution_count": 15,
          "metadata": {},
          "output_type": "execute_result"
        }
      ],
      "source": [
        "unsatisfied_test_data = test_data.loc[test_data['Satisfaction'] == 0]\n",
        "unsatisfied_test_data.head()"
      ]
    },
    {
      "cell_type": "markdown",
      "metadata": {
        "id": "OH5yYh4XmXP4"
      },
      "source": [
        "Analyze the recommended actions for inputs from the test set.\n",
        "\n",
        "**Note:** Execution of this cell could take several minutes."
      ]
    },
    {
      "cell_type": "code",
      "execution_count": null,
      "metadata": {
        "id": "kqc9NkaJmXP4"
      },
      "outputs": [],
      "source": [
        "results = []\n",
        "prompt = Prompt(access_token, project_id)\n",
        "comments = list(unsatisfied_test_data.Customer_Service)\n",
        "offer_recommended = list(unsatisfied_test_data.Action.astype(str))\n",
        "\n",
        "for input_text in comments:\n",
        "    results.append(prompt.generate(\" \".join([offer_recommendation_instruction, input_text]), model_id, parameters))"
      ]
    },
    {
      "cell_type": "markdown",
      "metadata": {
        "id": "4rfjWsMZmXP4"
      },
      "source": [
        "### Calculate the F1 micro score"
      ]
    },
    {
      "cell_type": "code",
      "execution_count": null,
      "metadata": {
        "id": "wfbcqxjCmXP4",
        "outputId": "0b8c84e1-0046-45ed-c479-eac56cbb81b6"
      },
      "outputs": [
        {
          "name": "stdout",
          "output_type": "stream",
          "text": [
            "f1_micro_score 0.0\n"
          ]
        }
      ],
      "source": [
        "from sklearn.metrics import f1_score\n",
        "\n",
        "print('f1_micro_score', f1_score(offer_recommended, results, average='micro'))"
      ]
    },
    {
      "cell_type": "markdown",
      "metadata": {
        "id": "seZU1cAmmXP4"
      },
      "source": [
        "---"
      ]
    },
    {
      "cell_type": "markdown",
      "metadata": {
        "id": "OYyubFtDmXP4"
      },
      "source": [
        "Copyright © 2023 IBM. This notebook and its source code are released under the terms of the MIT License."
      ]
    },
    {
      "cell_type": "code",
      "execution_count": null,
      "metadata": {
        "id": "Fn8jk_-VmXP5"
      },
      "outputs": [],
      "source": []
    }
  ],
  "metadata": {
    "kernelspec": {
      "display_name": "Python 3.10",
      "language": "python",
      "name": "python3"
    },
    "language_info": {
      "codemirror_mode": {
        "name": "ipython",
        "version": 3
      },
      "file_extension": ".py",
      "mimetype": "text/x-python",
      "name": "python",
      "nbconvert_exporter": "python",
      "pygments_lexer": "ipython3",
      "version": "3.10.13"
    },
    "colab": {
      "provenance": []
    }
  },
  "nbformat": 4,
  "nbformat_minor": 0
}